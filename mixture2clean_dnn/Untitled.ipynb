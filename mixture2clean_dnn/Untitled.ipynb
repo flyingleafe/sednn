{
 "cells": [
  {
   "cell_type": "code",
   "execution_count": 1,
   "metadata": {},
   "outputs": [],
   "source": [
    "%matplotlib inline\n",
    "%load_ext autoreload\n",
    "%autoreload 2\n",
    "\n",
    "import scipy as sp\n",
    "import numpy as np\n",
    "import pandas as pd\n",
    "import matplotlib.pyplot as plt\n",
    "import re\n",
    "import os\n",
    "from scipy import signal\n",
    "\n",
    "from glob import glob\n",
    "import pickle\n",
    "\n",
    "from main_dnn import train, inference\n",
    "from evaluate import calculate_pesq"
   ]
  },
  {
   "cell_type": "code",
   "execution_count": 7,
   "metadata": {},
   "outputs": [
    {
     "name": "stdout",
     "output_type": "stream",
     "text": [
      "PESQ is already calculated\n",
      "PESQ is already calculated\n"
     ]
    }
   ],
   "source": [
    "workspace = './workspace_full'\n",
    "df_md1 = calculate_pesq(workspace, speech_dir='../../../datasets/TIMIT/data/TEST',\n",
    "                        te_snr=[-30, -25, -20, -15, -10, -5, 0], model_name='MD1')\n",
    "df_md2 = calculate_pesq(workspace, speech_dir='../../../datasets/TIMIT/data/TEST',\n",
    "                        te_snr=[-30, -25, -20, -15, -10, -5, 0], model_name='MD2')"
   ]
  },
  {
   "cell_type": "code",
   "execution_count": 8,
   "metadata": {},
   "outputs": [
    {
     "name": "stdout",
     "output_type": "stream",
     "text": [
      "PESQ is already calculated\n"
     ]
    }
   ],
   "source": [
    "df_input = calculate_pesq(workspace, speech_dir='../../../datasets/TIMIT/data/TEST',\n",
    "                          te_snr=[-30, -25, -20, -15, -10, -5, 0], model_name='input',\n",
    "                          calc_mixed=True)"
   ]
  },
  {
   "cell_type": "code",
   "execution_count": 9,
   "metadata": {},
   "outputs": [],
   "source": [
    "md1_pesqs = df_md1.groupby('snr').agg({'pesq': ['mean']})['pesq']['mean']\n",
    "md2_pesqs = df_md2.groupby('snr').agg({'pesq': ['mean']})['pesq']['mean']"
   ]
  },
  {
   "cell_type": "code",
   "execution_count": 10,
   "metadata": {},
   "outputs": [
    {
     "data": {
      "text/plain": [
       "snr\n",
       "-30    1.324264\n",
       "-25    1.286573\n",
       "-20    1.302732\n",
       "-15    1.129027\n",
       "-10    1.280088\n",
       "-5     1.577707\n",
       " 0     1.942407\n",
       "Name: mean, dtype: float64"
      ]
     },
     "execution_count": 10,
     "metadata": {},
     "output_type": "execute_result"
    }
   ],
   "source": [
    "input_pesqs = df_input.groupby('snr').agg({'pesq': ['mean']})['pesq']['mean']\n",
    "input_pesqs"
   ]
  },
  {
   "cell_type": "code",
   "execution_count": 11,
   "metadata": {},
   "outputs": [
    {
     "data": {
      "image/png": "[encoded data removed]",
      "text/plain": [
       "<Figure size 432x288 with 1 Axes>"
      ]
     },
     "metadata": {
      "needs_background": "light"
     },
     "output_type": "display_data"
    }
   ],
   "source": [
    "plt.plot(md1_pesqs.index, md1_pesqs, label='MD1', c='green', marker='o')\n",
    "plt.plot(md2_pesqs.index, md2_pesqs, label='MD2', c='red', marker='o')\n",
    "plt.plot(input_pesqs.index, input_pesqs, label='input', c='yellow', marker='|')\n",
    "plt.grid(which='both')\n",
    "plt.ylabel('PESQ')\n",
    "plt.xlabel('SNR, dB')\n",
    "plt.title('Test noises n121-n122')\n",
    "plt.legend()\n",
    "plt.savefig('n121-n122.pdf', bbox_inches='tight')\n",
    "plt.show()"
   ]
  },
  {
   "cell_type": "code",
   "execution_count": null,
   "metadata": {},
   "outputs": [],
   "source": []
  }
 ],
 "metadata": {
  "kernelspec": {
   "display_name": "Python 3",
   "language": "python",
   "name": "python3"
  },
  "language_info": {
   "codemirror_mode": {
    "name": "ipython",
    "version": 3
   },
   "file_extension": ".py",
   "mimetype": "text/x-python",
   "name": "python",
   "nbconvert_exporter": "python",
   "pygments_lexer": "ipython3",
   "version": "3.6.8"
  }
 },
 "nbformat": 4,
 "nbformat_minor": 4
}
